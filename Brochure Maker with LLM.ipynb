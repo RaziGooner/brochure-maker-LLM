{
 "cells": [
  {
   "cell_type": "code",
   "execution_count": 1,
   "id": "0310d440-8c03-487c-959f-28d64cc3f459",
   "metadata": {},
   "outputs": [],
   "source": [
    "import os\n",
    "import requests\n",
    "import json\n",
    "from typing import List\n",
    "from dotenv import load_dotenv\n",
    "from bs4 import BeautifulSoup\n",
    "from IPython.display import Markdown, display, update_display\n",
    "from openai import OpenAI"
   ]
  },
  {
   "cell_type": "markdown",
   "id": "85c23877-a57a-454f-a76b-261d363e1622",
   "metadata": {},
   "source": [
    "## For using OpenAI models in this project an API key is needed. Can be obtained from openAI websit."
   ]
  },
  {
   "cell_type": "code",
   "execution_count": 4,
   "id": "4abbfb64-aa9a-441b-b31d-9eb5d2aae4bd",
   "metadata": {},
   "outputs": [],
   "source": [
    "# might need to rename a .env file to have a name before the '.'\n",
    "# if uploaded like that just change the name like following\n",
    "\n",
    "# import os\n",
    "# os.rename('t.env', '.env')"
   ]
  },
  {
   "cell_type": "code",
   "execution_count": 5,
   "id": "eaaa1caf-e42e-48c2-9120-7b9793ac184d",
   "metadata": {},
   "outputs": [
    {
     "name": "stdout",
     "output_type": "stream",
     "text": [
      "API key looks good so far\n"
     ]
    }
   ],
   "source": [
    "load_dotenv(override=True)\n",
    "api_key = os.getenv('OPENAI_API_KEY')\n",
    "\n",
    "if api_key and api_key.startswith('sk-proj-') and len(api_key)>10:\n",
    "    print(\"API key looks good so far\")\n",
    "else:\n",
    "    print(\"There might be a problem with your API key? Please visit the troubleshooting notebook!\")\n",
    "    \n",
    "MODEL = 'gpt-4o-mini'\n",
    "openai = OpenAI()"
   ]
  },
  {
   "cell_type": "code",
   "execution_count": 6,
   "id": "23df8725-afa9-4706-b3f8-fdd73f1ca085",
   "metadata": {},
   "outputs": [],
   "source": [
    "# Some websites need you to use proper headers when fetching them:\n",
    "# Use browser’s User-Agent, Go to: https://www.whatismybrowser.com/ , Copy the User-Agent string shown there\n",
    "# try using the header used below\n",
    "\n",
    "headers = {\n",
    " \"User-Agent\": \"Mozilla/5.0 (Windows NT 10.0; Win64; x64) AppleWebKit/537.36 (KHTML, like Gecko) Chrome/117.0.0.0 Safari/537.36\"\n",
    "}\n",
    "\n",
    "class Website:\n",
    "    \"\"\"\n",
    "    A utility class to represent a Website that we have scraped, now with links\n",
    "    \"\"\"\n",
    "\n",
    "    def __init__(self, url):\n",
    "        self.url = url\n",
    "        response = requests.get(url, headers=headers)     # retrieve url\n",
    "        self.body = response.content                      # get content\n",
    "        soup = BeautifulSoup(self.body, 'html.parser')    # parse the content\n",
    "        self.title = soup.title.string if soup.title else \"No title found\"\n",
    "        if soup.body:\n",
    "            for irrelevant in soup.body([\"script\", \"style\", \"img\", \"input\"]):\n",
    "                irrelevant.decompose()\n",
    "            self.text = soup.body.get_text(separator=\"\\n\", strip=True)\n",
    "        else:\n",
    "            self.text = \"\"\n",
    "        links = [link.get('href') for link in soup.find_all('a')]          # collect links in that webpage\n",
    "        self.links = [link for link in links if link]                      # store the links\n",
    "\n",
    "    def get_contents(self):\n",
    "        return f\"Webpage Title:\\n{self.title}\\nWebpage Contents:\\n{self.text}\\n\\n\""
   ]
  },
  {
   "cell_type": "code",
   "execution_count": 9,
   "id": "ef77fa4a-11cf-48f4-88ab-b18a14021c31",
   "metadata": {},
   "outputs": [],
   "source": [
    "anthropic = Website('https://www.anthropic.com/')\n",
    "# anthropic.get_contents()           # check the contetnt scraped\n",
    "# anthropic.links                      # check the linkd scraped"
   ]
  },
  {
   "cell_type": "markdown",
   "id": "4b7aaecd-e19d-4500-996c-0e822064b7ca",
   "metadata": {},
   "source": [
    "## make call to gpt-4o-mini to read the links on a webpage, and respond in structured JSON.\n",
    "We will use \"one shot prompting\" where we provide an example of how it should replace a relative link such as \"/about\" with \"https://company.com/about\" in the prompt."
   ]
  },
  {
   "cell_type": "code",
   "execution_count": 10,
   "id": "fa5fb9ca-109d-4392-bf53-1dec901aeb91",
   "metadata": {},
   "outputs": [],
   "source": [
    "link_system_prompt = \"You are provided with a list of links found on a webpage. \\\n",
    "You are able to decide which of the links would be most relevant to include in a brochure about the company, \\\n",
    "such as links to an About page, or a Company page, or Careers/Jobs pages.\\n\"\n",
    "link_system_prompt += \"You should respond in JSON as in this example:\"\n",
    "link_system_prompt += \"\"\"\n",
    "{\n",
    "    \"links\": [\n",
    "        {\"type\": \"about page\", \"url\": \"https://full.url/goes/here/about\"},\n",
    "        {\"type\": \"careers page\", \"url\": \"https://another.full.url/careers\"}\n",
    "    ]\n",
    "}\n",
    "\"\"\""
   ]
  },
  {
   "cell_type": "code",
   "execution_count": 12,
   "id": "cfa8821b-8a3c-47f3-bf4e-966f9addbb33",
   "metadata": {},
   "outputs": [
    {
     "name": "stdout",
     "output_type": "stream",
     "text": [
      "You are provided with a list of links found on a webpage. You are able to decide which of the links would be most relevant to include in a brochure about the company, such as links to an About page, or a Company page, or Careers/Jobs pages.\n",
      "You should respond in JSON as in this example:\n",
      "{\n",
      "    \"links\": [\n",
      "        {\"type\": \"about page\", \"url\": \"https://full.url/goes/here/about\"},\n",
      "        {\"type\": \"careers page\", \"url\": \"https://another.full.url/careers\"}\n",
      "    ]\n",
      "}\n",
      "\n"
     ]
    }
   ],
   "source": [
    "print(link_system_prompt)"
   ]
  },
  {
   "cell_type": "code",
   "execution_count": 13,
   "id": "d2593666-bc2a-45ee-b10e-59bcef7b813e",
   "metadata": {},
   "outputs": [],
   "source": [
    "# Function to pass the links from website object to the prompt create the whole user prompt\n",
    "def get_links_user_prompt(website):\n",
    "    user_prompt = f\"Here is the list of links on the website of {website.url} - \"\n",
    "    user_prompt += \"please decide which of these are relevant web links for a brochure about the company, respond with the full https URL in JSON format. \\\n",
    "Do not include Terms of Service, Privacy, email links.\\n\"\n",
    "    user_prompt += \"Links (some might be relative links):\\n\"\n",
    "    user_prompt += \"\\n\".join(website.links)\n",
    "    return user_prompt"
   ]
  },
  {
   "cell_type": "code",
   "execution_count": 15,
   "id": "1f14d4a2-0f0c-46f7-82f7-7b8af968ae28",
   "metadata": {},
   "outputs": [],
   "source": [
    "# print(get_links_user_prompt(anthropic))              # Check the whole prompt"
   ]
  },
  {
   "cell_type": "code",
   "execution_count": 17,
   "id": "a88df8c3-7ac4-4fbf-89cc-bcdd1143a6e8",
   "metadata": {},
   "outputs": [],
   "source": [
    "# create a website and pass the prompts in to openAI\n",
    "# we use response format to get structured JSON output response from the model\n",
    "def get_links(url):\n",
    "    website = Website(url)\n",
    "    response = openai.chat.completions.create(\n",
    "        model=MODEL,\n",
    "        messages=[\n",
    "            {\"role\": \"system\", \"content\": link_system_prompt},\n",
    "            {\"role\": \"user\", \"content\": get_links_user_prompt(website)}\n",
    "      ],\n",
    "        response_format={\"type\": \"json_object\"}\n",
    "    )\n",
    "    result = response.choices[0].message.content                 # we can get multiple variation of responses, that's why choices.'[0]'\n",
    "    return json.loads(result)"
   ]
  },
  {
   "cell_type": "code",
   "execution_count": 21,
   "id": "e07498ef-638b-4f38-be4f-c7378f682791",
   "metadata": {},
   "outputs": [
    {
     "data": {
      "text/plain": [
       "['/',\n",
       " '/models',\n",
       " '/datasets',\n",
       " '/spaces',\n",
       " '/docs',\n",
       " '/enterprise',\n",
       " '/pricing',\n",
       " '/login',\n",
       " '/join',\n",
       " 'inference/get-started',\n",
       " '/spaces',\n",
       " '/models',\n",
       " '/openai/gpt-oss-120b',\n",
       " '/openai/gpt-oss-20b',\n",
       " '/Qwen/Qwen-Image',\n",
       " '/tencent/Hunyuan-1.8B-Instruct',\n",
       " '/black-forest-labs/FLUX.1-Krea-dev',\n",
       " '/models',\n",
       " '/spaces/enzostvs/deepsite',\n",
       " '/spaces/Qwen/Qwen-Image',\n",
       " '/spaces/Qwen/Qwen3-Coder-WebDev',\n",
       " '/spaces/black-forest-labs/FLUX.1-Krea-dev',\n",
       " '/spaces/Wan-AI/Wan-2.2-5B',\n",
       " '/spaces',\n",
       " '/datasets/spatialverse/InteriorGS',\n",
       " '/datasets/nvidia/Nemotron-Post-Training-Dataset-v1',\n",
       " '/datasets/fka/awesome-chatgpt-prompts',\n",
       " '/datasets/UCSC-VLAA/GPT-Image-Edit-1.5M',\n",
       " '/datasets/AI-MO/NuminaMath-LEAN',\n",
       " '/datasets',\n",
       " '/join',\n",
       " '/pricing#endpoints',\n",
       " '/pricing#spaces',\n",
       " '/pricing',\n",
       " '/enterprise',\n",
       " '/enterprise',\n",
       " '/enterprise',\n",
       " '/enterprise',\n",
       " '/enterprise',\n",
       " '/enterprise',\n",
       " '/enterprise',\n",
       " '/allenai',\n",
       " '/facebook',\n",
       " '/amazon',\n",
       " '/google',\n",
       " '/Intel',\n",
       " '/microsoft',\n",
       " '/grammarly',\n",
       " '/Writer',\n",
       " '/docs/transformers',\n",
       " '/docs/diffusers',\n",
       " '/docs/safetensors',\n",
       " '/docs/huggingface_hub',\n",
       " '/docs/tokenizers',\n",
       " '/docs/trl',\n",
       " '/docs/transformers.js',\n",
       " '/docs/smolagents',\n",
       " '/docs/peft',\n",
       " '/docs/datasets',\n",
       " '/docs/text-generation-inference',\n",
       " '/docs/accelerate',\n",
       " '/models',\n",
       " '/datasets',\n",
       " '/spaces',\n",
       " '/changelog',\n",
       " 'https://endpoints.huggingface.co',\n",
       " '/chat',\n",
       " '/huggingface',\n",
       " '/brand',\n",
       " '/terms-of-service',\n",
       " '/privacy',\n",
       " 'https://apply.workable.com/huggingface/',\n",
       " 'mailto:press@huggingface.co',\n",
       " '/learn',\n",
       " '/docs',\n",
       " '/blog',\n",
       " 'https://discuss.huggingface.co',\n",
       " 'https://status.huggingface.co/',\n",
       " 'https://github.com/huggingface',\n",
       " 'https://twitter.com/huggingface',\n",
       " 'https://www.linkedin.com/company/huggingface/',\n",
       " '/join/discord']"
      ]
     },
     "execution_count": 21,
     "metadata": {},
     "output_type": "execute_result"
    }
   ],
   "source": [
    "huggingface = Website(\"https://huggingface.co\")\n",
    "huggingface.links"
   ]
  },
  {
   "cell_type": "code",
   "execution_count": 22,
   "id": "59d85975-9f1d-44e2-9bc8-9633ea0e161f",
   "metadata": {},
   "outputs": [
    {
     "data": {
      "text/plain": [
       "{'links': [{'type': 'about page', 'url': 'https://huggingface.co/about'},\n",
       "  {'type': 'careers page', 'url': 'https://apply.workable.com/huggingface/'},\n",
       "  {'type': 'enterprise page', 'url': 'https://huggingface.co/enterprise'},\n",
       "  {'type': 'pricing page', 'url': 'https://huggingface.co/pricing'},\n",
       "  {'type': 'blog page', 'url': 'https://huggingface.co/blog'},\n",
       "  {'type': 'docs page', 'url': 'https://huggingface.co/docs'},\n",
       "  {'type': 'company page', 'url': 'https://huggingface.co/huggingface'},\n",
       "  {'type': 'discussion forum', 'url': 'https://discuss.huggingface.co'},\n",
       "  {'type': 'GitHub page', 'url': 'https://github.com/huggingface'},\n",
       "  {'type': 'Twitter page', 'url': 'https://twitter.com/huggingface'},\n",
       "  {'type': 'LinkedIn page',\n",
       "   'url': 'https://www.linkedin.com/company/huggingface/'}]}"
      ]
     },
     "execution_count": 22,
     "metadata": {},
     "output_type": "execute_result"
    }
   ],
   "source": [
    "get_links(\"https://huggingface.co\")"
   ]
  },
  {
   "cell_type": "markdown",
   "id": "27bdd313-6dad-466a-860b-885fa5dc8c67",
   "metadata": {},
   "source": [
    "## Assemble all the details into another prompt to GPT4-o to make the brochure!"
   ]
  },
  {
   "cell_type": "code",
   "execution_count": 24,
   "id": "41cf29ed-05ea-4b0d-a629-ddfc2a91ab00",
   "metadata": {},
   "outputs": [],
   "source": [
    "def get_all_details(url):\n",
    "    result = \"Landing page:\\n\"\n",
    "    result += Website(url).get_contents()\n",
    "    links = get_links(url)\n",
    "    print(\"Found links:\", links)\n",
    "    for link in links[\"links\"]:\n",
    "        result += f\"\\n\\n{link['type']}\\n\"\n",
    "        result += Website(link[\"url\"]).get_contents()\n",
    "    return result"
   ]
  },
  {
   "cell_type": "code",
   "execution_count": 27,
   "id": "0751d1ed-b98d-4c24-9294-ca17341891af",
   "metadata": {},
   "outputs": [],
   "source": [
    "# get_all_details(\"https://huggingface.co\")         #check the function"
   ]
  },
  {
   "cell_type": "code",
   "execution_count": 28,
   "id": "4c7b7776-c550-4222-9bb5-b4e69a8d2ee5",
   "metadata": {},
   "outputs": [],
   "source": [
    "system_prompt = \"You are an assistant that analyzes the contents of several relevant pages from a company website \\\n",
    "and creates a short brochure about the company for prospective customers, investors and recruits. Respond in markdown.\\\n",
    "Include details of company culture, customers and careers/jobs if you have the information.\""
   ]
  },
  {
   "cell_type": "code",
   "execution_count": 31,
   "id": "bddaa331-a357-4740-baa9-55bd27bfa3dd",
   "metadata": {},
   "outputs": [],
   "source": [
    "def get_brochure_user_prompt(company_name, url):\n",
    "    user_prompt = f\"You are looking at a company called: {company_name}\\n\"\n",
    "    user_prompt += f\"Here are the contents of its landing page and other relevant pages; use this information to build a short brochure of the company in markdown.\\n\"\n",
    "    user_prompt += get_all_details(url)\n",
    "    user_prompt = user_prompt[:5000] # Truncate if more than 5,000 characters\n",
    "    return user_prompt"
   ]
  },
  {
   "cell_type": "code",
   "execution_count": 30,
   "id": "eb74ac9c-5788-4c37-92d7-b3a5eb258eb1",
   "metadata": {},
   "outputs": [
    {
     "name": "stdout",
     "output_type": "stream",
     "text": [
      "Found links: {'links': [{'type': 'about page', 'url': 'https://huggingface.co/huggingface'}, {'type': 'careers page', 'url': 'https://apply.workable.com/huggingface/'}, {'type': 'blog page', 'url': 'https://huggingface.co/blog'}, {'type': 'company page', 'url': 'https://www.linkedin.com/company/huggingface/'}, {'type': 'community page', 'url': 'https://discuss.huggingface.co'}]}\n"
     ]
    },
    {
     "data": {
      "text/plain": [
       "'You are looking at a company called: HuggingFace\\nHere are the contents of its landing page and other relevant pages; use this information to build a short brochure of the company in markdown.\\nLanding page:\\nWebpage Title:\\nHugging Face – The AI community building the future.\\nWebpage Contents:\\nHugging Face\\nModels\\nDatasets\\nSpaces\\nCommunity\\nDocs\\nEnterprise\\nPricing\\nLog In\\nSign Up\\nNEW\\nGet started with Inference in seconds 🚀\\nReachy Mini: The Open Robot for AI Builders\\nWelcome Cohere on the Hub 🔥\\nThe AI community building the future.\\nThe platform where the machine learning community collaborates on models, datasets, and applications.\\nExplore AI Apps\\nor\\nBrowse 1M+ models\\nTrending on\\nthis week\\nModels\\nopenai/gpt-oss-120b\\nUpdated\\nabout 3 hours ago\\n•\\n3.61k\\n•\\n1.47k\\nopenai/gpt-oss-20b\\nUpdated\\nabout 3 hours ago\\n•\\n6.82k\\n•\\n1.15k\\nQwen/Qwen-Image\\nUpdated\\nabout 22 hours ago\\n•\\n19k\\n•\\n956\\ntencent/Hunyuan-1.8B-Instruct\\nUpdated\\nabout 19 hours ago\\n•\\n802\\n•\\n504\\nblack-forest-labs/FLUX.1-Krea-dev\\nUpdated\\n5 days ago\\n•\\n48.5k\\n•\\n500\\nBrowse 1M+ models\\nSpaces\\nRunning\\n11.4k\\n11.4k\\nDeepSite v2\\n🐳\\nGenerate any application with DeepSeek\\nRunning\\non\\nZero\\n201\\n201\\nQwen Image\\n🖼\\nGenerate images from text prompts\\nRunning\\n396\\n396\\nQwen3 Coder WebDev\\n🌍\\nGenerate web application code from descriptions\\nRunning\\non\\nZero\\n179\\n179\\nFLUX.1 Krea Dev\\n📚\\nGenerate images from text prompts\\nRunning\\non\\nZero\\nMCP\\n213\\n213\\nWan 2.2 5B\\n🚀\\nGenerate high-quality videos from text prompts and images\\nBrowse 400k+ applications\\nDatasets\\nspatialverse/InteriorGS\\nUpdated\\n1 day ago\\n•\\n1.92k\\n•\\n96\\nnvidia/Nemotron-Post-Training-Dataset-v1\\nUpdated\\n4 days ago\\n•\\n11.7k\\n•\\n84\\nfka/awesome-chatgpt-prompts\\nUpdated\\nJan 6\\n•\\n33.4k\\n•\\n8.57k\\nUCSC-VLAA/GPT-Image-Edit-1.5M\\nUpdated\\n6 days ago\\n•\\n26k\\n•\\n39\\nAI-MO/NuminaMath-LEAN\\nUpdated\\n5 days ago\\n•\\n413\\n•\\n29\\nBrowse 250k+ datasets\\nThe Home of Machine Learning\\nCreate, discover and collaborate on ML better.\\nThe collaboration platform\\nHost and collaborate on unlimited public models, datasets and applications.\\nMove faster\\nWith the HF Open source stack.\\nExplore all modalities\\nText, image, video, audio or even 3D.\\nBuild your portfolio\\nShare your work with the world and build your ML profile.\\nSign Up\\nAccelerate your ML\\nWe provide paid Compute and Enterprise solutions.\\nCompute\\nDeploy on optimized\\nInference Endpoints\\nor update your\\nSpaces applications\\nto a GPU in a few clicks.\\nView pricing\\nStarting at $0.60/hour for GPU\\nTeam & Enterprise\\nGive your team the most advanced platform to build AI with enterprise-grade security, access controls and\\n\\t\\t\\tdedicated support.\\nGetting started\\nStarting at $20/user/month\\nSingle Sign-On\\nRegions\\nPriority Support\\nAudit Logs\\nResource Groups\\nPrivate Datasets Viewer\\nMore than 50,000 organizations are using Hugging Face\\nAi2\\nEnterprise\\nnon-profit\\n•\\n776 models\\n•\\n3.75k followers\\nAI at Meta\\nEnterprise\\ncompany\\n•\\n2.2k models\\n•\\n7.06k followers\\nAmazon\\ncompany\\n•\\n20 models\\n•\\n3.33k followers\\nGoogle\\nEnterprise\\ncompany\\n•\\n1.04k models\\n•\\n23k followers\\nIntel\\ncompany\\n•\\n234 models\\n•\\n2.84k followers\\nMicrosoft\\ncompany\\n•\\n419 models\\n•\\n14k followers\\nGrammarly\\nTeam\\ncompany\\n•\\n10 models\\n•\\n171 followers\\nWriter\\nEnterprise\\ncompany\\n•\\n21 models\\n•\\n318 followers\\nOur Open Source\\nWe are building the foundation of ML tooling with the community.\\nTransformers\\n147,929\\nState-of-the-art AI models for PyTorch\\nDiffusers\\n30,110\\nState-of-the-art Diffusion models in PyTorch\\nSafetensors\\n3,380\\nSafe way to store/distribute neural network weights\\nHub Python Library\\n2,820\\nPython client to interact with the Hugging Face Hub\\nTokenizers\\n9,966\\nFast tokenizers optimized for research & production\\nTRL\\n14,924\\nTrain transformers LMs with reinforcement learning\\nTransformers.js\\n14,293\\nState-of-the-art ML running directly in your browser\\nsmolagents\\n21,852\\nSmol library to build great agents in Python\\nPEFT\\n19,233\\nParameter-efficient finetuning for large language models\\nDatasets\\n20,465\\nAccess & share datasets for any ML tasks\\nText Generation Inference\\n10,390\\nServe language models with TGI optimized toolkit\\nAccelerate\\n8,997\\nTrain PyTorch models with multi-GPU, TPU, mixed precision\\nSystem theme\\nWebsite\\nModels\\nDatasets\\nSpaces\\nChangelog\\nInference Endpoints\\nHuggingChat\\nCompany\\nAbout\\nBrand assets\\nTerms of service\\nPrivacy\\nJobs\\nPress\\nResources\\nLearn\\nDocumentation\\nBlog\\nForum\\nService Status\\nSocial\\nGitHub\\nTwitter\\nLinkedIn\\nDiscord\\n\\n\\n\\nabout page\\nWebpage Title:\\nhuggingface (Hugging Face)\\nWebpage Contents:\\nHugging Face\\nModels\\nDatasets\\nSpaces\\nCommunity\\nDocs\\nEnterprise\\nPricing\\nLog In\\nSign Up\\nHugging Face\\nEnterprise\\ncompany\\nVerified\\nhttps://huggingface.co\\nhuggingface\\nhuggingface\\nActivity Feed\\nFollow\\n52,372\\nAI & ML interests\\nThe AI community building the future.\\nRecent Activity\\npcuenq\\nnew\\nactivity\\nabout 8 hours ago\\nhuggingface/documentation-images:\\nUpload gpt-oss-evals.png\\npagezyhf\\nupdated\\na dataset\\nabout 8 hours ago\\nhuggingface/documentation-images\\ncelinah\\nupdated\\na dataset\\nabout 8 hours ago\\nhuggingface/documentation-images\\nView all activity\\nArticles\\nTimeScope: How Long Can Your Video Large Multimodal Model Go?\\n14 days ago\\n•\\n31\\nYay! Or'"
      ]
     },
     "execution_count": 30,
     "metadata": {},
     "output_type": "execute_result"
    }
   ],
   "source": [
    "get_brochure_user_prompt(\"HuggingFace\", \"https://huggingface.co\")"
   ]
  },
  {
   "cell_type": "code",
   "execution_count": 32,
   "id": "dc88e274-3ac8-4a51-ae97-58d589bbb89b",
   "metadata": {},
   "outputs": [],
   "source": [
    "def create_brochure(company_name, url):\n",
    "    response = openai.chat.completions.create(\n",
    "        model=MODEL,\n",
    "        messages=[\n",
    "            {\"role\": \"system\", \"content\": system_prompt},\n",
    "            {\"role\": \"user\", \"content\": get_brochure_user_prompt(company_name, url)}\n",
    "          ],\n",
    "    )\n",
    "    result = response.choices[0].message.content\n",
    "    display(Markdown(result))"
   ]
  },
  {
   "cell_type": "code",
   "execution_count": 33,
   "id": "aadf1730-ce15-4ee7-b38d-cb238890f9e5",
   "metadata": {},
   "outputs": [
    {
     "name": "stdout",
     "output_type": "stream",
     "text": [
      "Found links: {'links': [{'type': 'home page', 'url': 'https://huggingface.co/'}, {'type': 'about page', 'url': 'https://huggingface.co/huggingface'}, {'type': 'careers page', 'url': 'https://apply.workable.com/huggingface/'}, {'type': 'blog page', 'url': 'https://huggingface.co/blog'}, {'type': 'documentation page', 'url': 'https://huggingface.co/docs'}]}\n"
     ]
    },
    {
     "data": {
      "text/markdown": [
       "# Hugging Face Brochure\n",
       "\n",
       "## About Us\n",
       "**Hugging Face** is at the forefront of the AI revolution, dedicated to building a collaborative community focused on machine learning (ML). We invite individuals and organizations alike to explore, create, and innovate within our dynamic ecosystem. Our platform empowers users to collaborate on models, share datasets, and develop cutting-edge AI applications.\n",
       "\n",
       "## Our Offerings\n",
       "- **Models**: Access over 1 million machine learning models, including trending models such as openai/gpt-oss-120b and Qwen/Qwen-Image.\n",
       "- **Datasets**: Browse through more than 250,000 datasets tailored for a variety of ML tasks.\n",
       "- **Spaces**: Explore over 400,000 applications running on our platform in real-time, ranging from web development to image generation.\n",
       "- **Enterprise Solutions**: We offer advanced compute and enterprise features with dedicated support, ensuring that organizations can harness AI with confidence.\n",
       "\n",
       "## Community & Collaboration\n",
       "Hugging Face fosters a vibrant community made up of over 50,000 organizations, including industry leaders like **Google**, **Microsoft**, and **Amazon**. Collaborate with experts, enthusiasts, and companies to accelerate innovation in AI.\n",
       "\n",
       "## Company Culture\n",
       "At Hugging Face, our culture is rooted in collaboration and inclusivity. We believe that by joining forces, we can build and reflect the future of AI. Our team thrives in an environment that encourages creativity and the sharing of knowledge. We promote an open-source ethos, helping to drive transparency and community engagement in AI development.\n",
       "\n",
       "## Career Opportunities\n",
       "Join our mission to democratize AI! We are always on the lookout for talented individuals excited about AI and machine learning. Whether you are a developer, researcher, or marketer, there’s a place for you at Hugging Face. \n",
       "Explore our **Jobs** section on our website to find positions that suit your skills and aspirations.\n",
       "\n",
       "## Get Started\n",
       "Ready to dive into the world of AI? Sign up today and unlock the potential of machine learning! \n",
       "\n",
       "- **Sign Up**: [Get Started Here](#) \n",
       "- **Explore**: [Explore AI Apps](#)\n",
       "\n",
       "Join us in building the future of AI—together, we can make a difference! \n",
       "\n",
       "---\n",
       "\n",
       "*For more information, visit our website: [Hugging Face](https://huggingface.co)*"
      ],
      "text/plain": [
       "<IPython.core.display.Markdown object>"
      ]
     },
     "metadata": {},
     "output_type": "display_data"
    }
   ],
   "source": [
    "create_brochure(\"HuggingFace\", \"https://huggingface.co\")"
   ]
  },
  {
   "cell_type": "markdown",
   "id": "79b3c47d-43cc-45ed-af4a-44445cabdb9c",
   "metadata": {},
   "source": [
    "## streaming the output instead of a blok output "
   ]
  },
  {
   "cell_type": "code",
   "execution_count": 34,
   "id": "a61faa1d-9207-4028-8bbc-9f5d4bfb1218",
   "metadata": {},
   "outputs": [],
   "source": [
    "def stream_brochure(company_name, url):\n",
    "    stream = openai.chat.completions.create(\n",
    "        model=MODEL,\n",
    "        messages=[\n",
    "            {\"role\": \"system\", \"content\": system_prompt},\n",
    "            {\"role\": \"user\", \"content\": get_brochure_user_prompt(company_name, url)}\n",
    "          ],\n",
    "        stream=True\n",
    "    )\n",
    "    \n",
    "    response = \"\"\n",
    "    display_handle = display(Markdown(\"\"), display_id=True)\n",
    "    for chunk in stream:\n",
    "        response += chunk.choices[0].delta.content or ''\n",
    "        response = response.replace(\"```\",\"\").replace(\"markdown\", \"\")\n",
    "        update_display(Markdown(response), display_id=display_handle.display_id)"
   ]
  },
  {
   "cell_type": "code",
   "execution_count": 35,
   "id": "c808d72c-b9d3-4947-af84-bcc16a2917f1",
   "metadata": {},
   "outputs": [
    {
     "name": "stdout",
     "output_type": "stream",
     "text": [
      "Found links: {'links': [{'type': 'about page', 'url': 'https://huggingface.co/huggingface'}, {'type': 'careers page', 'url': 'https://apply.workable.com/huggingface/'}, {'type': 'company blog', 'url': 'https://huggingface.co/blog'}, {'type': 'company Twitter', 'url': 'https://twitter.com/huggingface'}, {'type': 'company LinkedIn', 'url': 'https://www.linkedin.com/company/huggingface/'}]}\n"
     ]
    },
    {
     "data": {
      "text/markdown": [
       "# Hugging Face: The AI Community Building the Future\n",
       "\n",
       "Welcome to Hugging Face, where innovation meets collaboration in the artificial intelligence landscape. Our mission is to empower individuals and organizations to cultivate and deploy machine learning models, datasets, and applications. Join us in shaping the future of AI!\n",
       "\n",
       "## Our Offerings\n",
       "\n",
       "- **Models**: Explore our extensive library of over 1 million models ranging from text and image to video AI applications. Our state-of-the-art `Transformers` and `Diffusers` libraries set the standard for machine learning excellence.\n",
       "- **Datasets**: Access 250,000+ datasets tailored for every ML task. Our platform enables seamless collaboration through public model hosting and sharing.\n",
       "- **Spaces**: Discover our collaborative environment where users can run applications and generate models collectively. With over 400K applications created by our community, creativity knows no bounds!\n",
       "\n",
       "## We Support Your AI Journey\n",
       "\n",
       "Hugging Face provides robust **Compute and Enterprise solutions** to accelerate your ML projects. Our offerings include:\n",
       "\n",
       "- **Optimized Inference Endpoints** starting at $0.60/hour for GPU.\n",
       "- **Enterprise Solutions** from $20/user/month, designed for teams requiring secure and dedicated support.\n",
       "\n",
       "Join leading organizations like Amazon, Google, Microsoft, and Grammarly who trust Hugging Face for their AI and ML needs!\n",
       "\n",
       "## Our Community\n",
       "\n",
       "We are more than just a platform; we are a thriving **community of over 50,000 organizations**. Our commitment to collaboration and open source is evident through our active involvement in:\n",
       "\n",
       "- Sharing the latest advancements in AI technology.\n",
       "- Collaborating on diverse projects and sharing valuable insights through our forums and documentation.\n",
       "- Hosting events that encourage dialogue among researchers, developers, and enthusiasts.\n",
       "\n",
       "## Join Our Team\n",
       "\n",
       "At Hugging Face, we foster an inclusive company culture where collaboration meets innovation. We believe in the power of diverse perspectives and experiences, and this fuels our creativity. \n",
       "\n",
       "### Career Opportunities\n",
       "\n",
       "As we expand, we invite passionate individuals to explore careers in various fields within AI and machine learning. Join us to be a part of a forward-thinking team that values growth, collaboration, and the pursuit of knowledge.\n",
       "\n",
       "- **Current Open Positions**: Visit our [Jobs page](https://huggingface.co/jobs) to see the latest opportunities and become part of our mission to democratize AI.\n",
       "\n",
       "## Get Started with Hugging Face Today!\n",
       "\n",
       "Whether you're an AI enthusiast, a developer, or a data scientist, Hugging Face provides the tools and community support to launch your ML initiatives. Create, collaborate, and contribute with us.\n",
       "\n",
       "Visit us at [huggingface.co](https://huggingface.co) to learn more or sign up!\n",
       "\n",
       "---\n",
       "\n",
       "*Let’s build the future of AI together!* 🚀"
      ],
      "text/plain": [
       "<IPython.core.display.Markdown object>"
      ]
     },
     "metadata": {},
     "output_type": "display_data"
    }
   ],
   "source": [
    "stream_brochure(\"HuggingFace\", \"https://huggingface.co\")"
   ]
  },
  {
   "cell_type": "code",
   "execution_count": null,
   "id": "5dcca384-ca17-481d-887d-d90fceeec8f1",
   "metadata": {},
   "outputs": [],
   "source": []
  }
 ],
 "metadata": {
  "kernelspec": {
   "display_name": "Python 3 (ipykernel)",
   "language": "python",
   "name": "python3"
  },
  "language_info": {
   "codemirror_mode": {
    "name": "ipython",
    "version": 3
   },
   "file_extension": ".py",
   "mimetype": "text/x-python",
   "name": "python",
   "nbconvert_exporter": "python",
   "pygments_lexer": "ipython3",
   "version": "3.11.4"
  }
 },
 "nbformat": 4,
 "nbformat_minor": 5
}
